{
 "cells": [
  {
   "cell_type": "code",
   "execution_count": 7,
   "metadata": {},
   "outputs": [],
   "source": [
    "import numpy as np\n",
    "from sklearn.datasets import load_breast_cancer\n",
    "import pandas as pd\n",
    "pd.set_option('display.max_columns', 30)\n",
    "breast_cancer = load_breast_cancer()\n",
    "x = pd.DataFrame(breast_cancer.data, columns=[breast_cancer.feature_names])\n",
    "y = pd.Series(breast_cancer.target)"
   ]
  },
  {
   "cell_type": "code",
   "execution_count": 8,
   "metadata": {},
   "outputs": [],
   "source": [
    "from sklearn.neighbors import KNeighborsClassifier\n",
    "from sklearn.preprocessing import MinMaxScaler\n",
    "from sklearn.model_selection import GridSearchCV\n",
    "\n",
    "normalizer = MinMaxScaler(feature_range=(0,1))\n",
    "x_norm = normalizer.fit_transform(x)\n",
    "\n",
    "k_values = np.array([3, 5, 7, 9, 11])\n",
    "metric = ['minkowski','chebyshev']\n",
    "p_values = np.array([1, 2, 3, 4])\n",
    "search_values = {'n_neighbors': k_values, 'metric': metric, 'p': p_values}\n",
    "\n"
   ]
  },
  {
   "cell_type": "code",
   "execution_count": 11,
   "metadata": {},
   "outputs": [
    {
     "name": "stdout",
     "output_type": "stream",
     "text": [
      "Acuracity 0.9701133364384411\n",
      "Best K value 3\n",
      "Best metric minkowski\n",
      "Best p value 1\n"
     ]
    }
   ],
   "source": [
    "model = KNeighborsClassifier()\n",
    "\n",
    "gridKNN = GridSearchCV(estimator=model, param_grid=search_values, cv=5)\n",
    "gridKNN.fit(x_norm, y)\n",
    "\n",
    "print('Acuracity', gridKNN.best_score_)\n",
    "print('Best K value', gridKNN.best_estimator_.n_neighbors)\n",
    "print('Best metric', gridKNN.best_estimator_.metric)\n",
    "print('Best p value', gridKNN.best_estimator_.p)"
   ]
  }
 ],
 "metadata": {
  "kernelspec": {
   "display_name": "base",
   "language": "python",
   "name": "python3"
  },
  "language_info": {
   "codemirror_mode": {
    "name": "ipython",
    "version": 3
   },
   "file_extension": ".py",
   "mimetype": "text/x-python",
   "name": "python",
   "nbconvert_exporter": "python",
   "pygments_lexer": "ipython3",
   "version": "3.8.5"
  },
  "orig_nbformat": 4
 },
 "nbformat": 4,
 "nbformat_minor": 2
}
