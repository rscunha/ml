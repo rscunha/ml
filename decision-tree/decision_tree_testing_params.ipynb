{
 "cells": [
  {
   "cell_type": "code",
   "execution_count": 3,
   "metadata": {},
   "outputs": [],
   "source": [
    "from sklearn.datasets import load_iris\n",
    "import pandas as pd\n",
    "iris = load_iris()\n",
    "x = pd.DataFrame(iris.data, columns=[iris.feature_names])\n",
    "y = pd.Series(iris.target)\n"
   ]
  },
  {
   "cell_type": "code",
   "execution_count": 4,
   "metadata": {},
   "outputs": [
    {
     "name": "stdout",
     "output_type": "stream",
     "text": [
      "Min samples split 3\n",
      "Max depth 3\n",
      "Criterion gini\n",
      "Best Score 0.9733333333333334\n"
     ]
    }
   ],
   "source": [
    "import numpy as np\n",
    "from sklearn.model_selection import GridSearchCV\n",
    "from sklearn.tree import DecisionTreeClassifier\n",
    "\n",
    "min_samples_split = np.array([2,3,4,5,6,7,8])\n",
    "max_depth = np.array([3,4,5,6])\n",
    "criterion = ['gini', 'entropy']\n",
    "\n",
    "params = { 'min_samples_split': min_samples_split, 'max_depth': max_depth, 'criterion': criterion }\n",
    "\n",
    "model = DecisionTreeClassifier()\n",
    "\n",
    "gridDecisionTree = GridSearchCV(estimator=model, param_grid=params, cv=5)\n",
    "gridDecisionTree.fit(x, y)\n",
    "\n",
    "print(\"Min samples split\", gridDecisionTree.best_estimator_.min_samples_split)\n",
    "print(\"Max depth\", gridDecisionTree.best_estimator_.max_depth)\n",
    "print(\"Criterion\", gridDecisionTree.best_estimator_.criterion)\n",
    "print(\"Best Score\", gridDecisionTree.best_score_)\n"
   ]
  },
  {
   "cell_type": "code",
   "execution_count": 5,
   "metadata": {},
   "outputs": [
    {
     "data": {
      "text/plain": [
       "'Source.gv.pdf'"
      ]
     },
     "execution_count": 5,
     "metadata": {},
     "output_type": "execute_result"
    }
   ],
   "source": [
    "import graphviz\n",
    "from sklearn.tree import export_graphviz\n",
    "\n",
    "file = './sample2.dot'\n",
    "\n",
    "model = DecisionTreeClassifier(min_samples_split=2, max_depth=3, criterion='gini')\n",
    "model.fit(x, y)\n",
    "\n",
    "export_graphviz(model, out_file=file, feature_names=iris.feature_names)\n",
    "\n",
    "with open(file) as opened:\n",
    "    graph_dot = opened.read()\n",
    "\n",
    "h = graphviz.Source(graph_dot)\n",
    "h.view()"
   ]
  }
 ],
 "metadata": {
  "kernelspec": {
   "display_name": "base",
   "language": "python",
   "name": "python3"
  },
  "language_info": {
   "codemirror_mode": {
    "name": "ipython",
    "version": 3
   },
   "file_extension": ".py",
   "mimetype": "text/x-python",
   "name": "python",
   "nbconvert_exporter": "python",
   "pygments_lexer": "ipython3",
   "version": "3.8.17"
  }
 },
 "nbformat": 4,
 "nbformat_minor": 2
}
