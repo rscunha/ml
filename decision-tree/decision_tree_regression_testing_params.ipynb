{
 "cells": [
  {
   "cell_type": "code",
   "execution_count": 8,
   "metadata": {},
   "outputs": [],
   "source": [
    "import pandas as pd\n",
    "\n",
    "admissions = pd.read_csv('../datasets/Admission_Predict.csv')\n",
    "admissions.drop('Serial No.', axis=1, inplace=True)"
   ]
  },
  {
   "cell_type": "code",
   "execution_count": 9,
   "metadata": {},
   "outputs": [],
   "source": [
    "y = admissions['Chance of Admit ']\n",
    "x = admissions.drop('Chance of Admit ', axis=1)"
   ]
  },
  {
   "cell_type": "code",
   "execution_count": 12,
   "metadata": {},
   "outputs": [
    {
     "name": "stdout",
     "output_type": "stream",
     "text": [
      "Min samples split: 4\n",
      "Max depth: 4\n",
      "Chose Criterion: absolute_error\n",
      "Score: 0.7163808542150357\n"
     ]
    }
   ],
   "source": [
    "import numpy as np\n",
    "from sklearn.tree import DecisionTreeRegressor\n",
    "from sklearn.model_selection import GridSearchCV\n",
    "\n",
    "min_samples_split = np.array([2,3,4,5,6,7])\n",
    "max_depth = np.array([3,4,5])\n",
    "criterion = ['squared_error', 'friedman_mse', 'absolute_error', 'poisson']\n",
    "\n",
    "params = {'min_samples_split': min_samples_split, 'max_depth': max_depth, 'criterion': criterion}\n",
    "\n",
    "model = DecisionTreeRegressor()\n",
    "\n",
    "gridDecisionTree = GridSearchCV(estimator=model, param_grid=params, cv=5)\n",
    "gridDecisionTree.fit(x, y)\n",
    "\n",
    "print('Min samples split:', gridDecisionTree.best_estimator_.min_samples_split)\n",
    "print('Max depth:', gridDecisionTree.best_estimator_.max_depth)\n",
    "print('Chose Criterion:', gridDecisionTree.best_estimator_.criterion)\n",
    "print('Score:', gridDecisionTree.best_score_)"
   ]
  },
  {
   "cell_type": "code",
   "execution_count": null,
   "metadata": {},
   "outputs": [],
   "source": []
  }
 ],
 "metadata": {
  "kernelspec": {
   "display_name": "base",
   "language": "python",
   "name": "python3"
  },
  "language_info": {
   "codemirror_mode": {
    "name": "ipython",
    "version": 3
   },
   "file_extension": ".py",
   "mimetype": "text/x-python",
   "name": "python",
   "nbconvert_exporter": "python",
   "pygments_lexer": "ipython3",
   "version": "3.11.5"
  }
 },
 "nbformat": 4,
 "nbformat_minor": 2
}
