{
 "cells": [
  {
   "cell_type": "code",
   "execution_count": 39,
   "metadata": {},
   "outputs": [],
   "source": [
    "import pandas as pd\n",
    "\n",
    "kc_house = pd.read_csv('../datasets/kc_house_data.csv')\n",
    "new_kc_house = kc_house.loc[:, ~kc_house.columns.isin(['id', 'date', 'zipcode', 'lat', 'long'])]"
   ]
  },
  {
   "cell_type": "code",
   "execution_count": 40,
   "metadata": {},
   "outputs": [],
   "source": [
    "\n",
    "y = new_kc_house['price']\n",
    "x = new_kc_house.drop('price', axis=1)"
   ]
  },
  {
   "cell_type": "code",
   "execution_count": 41,
   "metadata": {},
   "outputs": [],
   "source": [
    "from sklearn.model_selection import train_test_split\n",
    "\n",
    "x_train, x_test, y_train, y_test = train_test_split(x, y, test_size=0.3, random_state=14)"
   ]
  },
  {
   "cell_type": "code",
   "execution_count": 42,
   "metadata": {},
   "outputs": [
    {
     "data": {
      "text/plain": [
       "LinearRegression()"
      ]
     },
     "execution_count": 42,
     "metadata": {},
     "output_type": "execute_result"
    }
   ],
   "source": [
    "from sklearn.linear_model import LinearRegression\n",
    "\n",
    "linear = LinearRegression()\n",
    "linear.fit(x_train, y_train)\n"
   ]
  },
  {
   "cell_type": "code",
   "execution_count": 43,
   "metadata": {},
   "outputs": [
    {
     "data": {
      "text/plain": [
       "Ridge(alpha=10)"
      ]
     },
     "execution_count": 43,
     "metadata": {},
     "output_type": "execute_result"
    }
   ],
   "source": [
    "from sklearn.linear_model import Ridge\n",
    "\n",
    "\"\"\"\n",
    "The alpha parameter represents the constant that multiplies the L2 term, controlling regularization strength. alpha must be a non-negative float i.e. in [0, inf).\n",
    "When alpha = 0, the objective is equivalent to ordinary least squares, solved by the LinearRegression object. For numerical reasons, using alpha = 0 with the Ridge object is not advised. Instead, you should use the LinearRegression object.\n",
    "If an array is passed, penalties are assumed to be specific to the targets. Hence they must correspond in number.\n",
    "\"\"\"\n",
    "ridge = Ridge(alpha=10) # modify alpha parameter to improve Ridge performance comparaed to Lienar Regression \n",
    "\n",
    "\n",
    "ridge.fit(x_train, y_train)"
   ]
  },
  {
   "cell_type": "code",
   "execution_count": 44,
   "metadata": {},
   "outputs": [
    {
     "name": "stdout",
     "output_type": "stream",
     "text": [
      "Linear Score: 0.653809419628095\n",
      "Ridge Score: 0.6545037069731696\n"
     ]
    }
   ],
   "source": [
    "\n",
    "print(f'Linear Score: {linear.score(x_test, y_test)}')\n",
    "print(f'Ridge Score: {ridge.score(x_test, y_test)}')"
   ]
  }
 ],
 "metadata": {
  "kernelspec": {
   "display_name": "Python 3.8.5 ('base')",
   "language": "python",
   "name": "python3"
  },
  "language_info": {
   "codemirror_mode": {
    "name": "ipython",
    "version": 3
   },
   "file_extension": ".py",
   "mimetype": "text/x-python",
   "name": "python",
   "nbconvert_exporter": "python",
   "pygments_lexer": "ipython3",
   "version": "3.8.5"
  },
  "orig_nbformat": 4,
  "vscode": {
   "interpreter": {
    "hash": "f7b92937eb2e8b23441e06598906a3e7ebd8b051a30e634f301bf65b1a32076e"
   }
  }
 },
 "nbformat": 4,
 "nbformat_minor": 2
}
