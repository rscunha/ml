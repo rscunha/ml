{
 "cells": [
  {
   "cell_type": "code",
   "execution_count": 2,
   "metadata": {},
   "outputs": [],
   "source": [
    "from sklearn.datasets import load_breast_cancer\n",
    "import pandas as pd\n",
    "\n",
    "breast_cancer = load_breast_cancer()\n",
    "x = pd.DataFrame(breast_cancer.data, columns=[breast_cancer.feature_names])\n",
    "y = pd.Series(breast_cancer.target)"
   ]
  },
  {
   "cell_type": "code",
   "execution_count": 6,
   "metadata": {},
   "outputs": [
    {
     "name": "stdout",
     "output_type": "stream",
     "text": [
      "Best Score:  0.968390001552554\n",
      "Best Constant:  100.0\n",
      "Best Regularization:  l1\n"
     ]
    }
   ],
   "source": [
    "import numpy as np\n",
    "from sklearn.linear_model import LogisticRegression\n",
    "from sklearn.model_selection import GridSearchCV\n",
    "\n",
    "#set parameters we want to evaluate\n",
    "constants = np.array([0.01, 0.1, 0.5, 1, 2, 3, 5, 10, 20, 50, 100])\n",
    "regularizations = ['l1','l2']\n",
    "param_grid = {'C': constants, 'penalty': regularizations}\n",
    "\n",
    "logistic = LogisticRegression(solver='liblinear', max_iter=1000)\n",
    "\n",
    "grid_search_cv = GridSearchCV(estimator=logistic, param_grid= param_grid, cv=5)\n",
    "grid_search_cv.fit(x, y)\n",
    "\n",
    "print('Best Score: ', grid_search_cv.best_score_)\n",
    "print('Best Constant: ', grid_search_cv.best_estimator_.C)\n",
    "print('Best Regularization: ', grid_search_cv.best_estimator_.penalty)\n",
    "\n"
   ]
  },
  {
   "cell_type": "code",
   "execution_count": null,
   "metadata": {},
   "outputs": [],
   "source": []
  }
 ],
 "metadata": {
  "kernelspec": {
   "display_name": "Python 3.8.5 ('base')",
   "language": "python",
   "name": "python3"
  },
  "language_info": {
   "codemirror_mode": {
    "name": "ipython",
    "version": 3
   },
   "file_extension": ".py",
   "mimetype": "text/x-python",
   "name": "python",
   "nbconvert_exporter": "python",
   "pygments_lexer": "ipython3",
   "version": "3.8.5"
  },
  "orig_nbformat": 4,
  "vscode": {
   "interpreter": {
    "hash": "f7b92937eb2e8b23441e06598906a3e7ebd8b051a30e634f301bf65b1a32076e"
   }
  }
 },
 "nbformat": 4,
 "nbformat_minor": 2
}
