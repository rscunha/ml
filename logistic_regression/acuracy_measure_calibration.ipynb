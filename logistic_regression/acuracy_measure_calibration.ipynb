{
 "cells": [
  {
   "cell_type": "code",
   "execution_count": 32,
   "metadata": {},
   "outputs": [],
   "source": [
    "import pandas as pd\n",
    "\n",
    "#limiting de cols and rows visualization\n",
    "pd.set_option('display.max_columns', 64);\n",
    "pd.set_option('display.max_rows', 64)\n",
    "\n",
    "train_reduced = pd.read_csv('../datasets/Data_train_reduced.csv')"
   ]
  },
  {
   "cell_type": "code",
   "execution_count": 33,
   "metadata": {},
   "outputs": [],
   "source": [
    "\n",
    "#droping columns with more than 30% null data and not necessary columns\n",
    "train_reduced.drop('q8.20', axis=1, inplace=True)\n",
    "train_reduced.drop('q8.18', axis=1, inplace=True)\n",
    "train_reduced.drop('q8.17', axis=1, inplace=True)\n",
    "train_reduced.drop('q8.8', axis=1, inplace=True)\n",
    "train_reduced.drop('q8.9', axis=1, inplace=True)\n",
    "train_reduced.drop('q8.10', axis=1, inplace=True)\n",
    "train_reduced.drop('q8.2', axis=1, inplace=True)\n",
    "\n",
    "train_reduced.drop('Respondent.ID', axis=1, inplace=True)\n",
    "train_reduced.drop('Product', axis=1, inplace=True)\n",
    "train_reduced.drop('q1_1.personal.opinion.of.this.Deodorant', axis=1, inplace=True)\n"
   ]
  },
  {
   "cell_type": "code",
   "execution_count": 34,
   "metadata": {},
   "outputs": [],
   "source": [
    "\n",
    "#filling columns having little null data\n",
    "train_reduced['q8.12'].fillna(train_reduced['q8.12'].median(), inplace=True)\n",
    "train_reduced['q8.7'].fillna(train_reduced['q8.7'].median(), inplace=True)\n"
   ]
  },
  {
   "cell_type": "code",
   "execution_count": 35,
   "metadata": {},
   "outputs": [],
   "source": [
    "\n",
    "#isolating the target variable\n",
    "y = train_reduced['Instant.Liking']\n",
    "\n",
    "x = train_reduced.drop('Instant.Liking', axis=1)"
   ]
  },
  {
   "cell_type": "code",
   "execution_count": 36,
   "metadata": {},
   "outputs": [
    {
     "name": "stdout",
     "output_type": "stream",
     "text": [
      "Best Score: 0.7544\n",
      "Best Constant: 0.5\n",
      "Regularization: l1\n"
     ]
    }
   ],
   "source": [
    "import numpy as np\n",
    "from sklearn.linear_model import LogisticRegression\n",
    "from sklearn.model_selection import GridSearchCV\n",
    "\n",
    "# set parameters we want to evaluate\n",
    "constants = np.array([0.01, 0.1, 0.5, 1, 2, 3, 5, 10, 20, 50, 100])\n",
    "regularizations = ['l1','l2']\n",
    "grid_values = {'C': constants, 'penalty': regularizations}\n",
    "\n",
    "\n",
    "logistic = LogisticRegression(solver='liblinear')\n",
    "\n",
    "# evaluating the best score\n",
    "grid_search_cv = GridSearchCV(estimator=logistic, param_grid=grid_values, cv=5)\n",
    "grid_search_cv.fit(x, y)\n",
    "\n",
    "print('Best Score:', grid_search_cv.best_score_)\n",
    "print(f'Best Constant: {grid_search_cv.best_estimator_.C}')\n",
    "print(f'Regularization: {grid_search_cv.best_estimator_.penalty}')"
   ]
  },
  {
   "cell_type": "code",
   "execution_count": null,
   "metadata": {},
   "outputs": [],
   "source": []
  }
 ],
 "metadata": {
  "kernelspec": {
   "display_name": "Python 3.8.5 ('base')",
   "language": "python",
   "name": "python3"
  },
  "language_info": {
   "codemirror_mode": {
    "name": "ipython",
    "version": 3
   },
   "file_extension": ".py",
   "mimetype": "text/x-python",
   "name": "python",
   "nbconvert_exporter": "python",
   "pygments_lexer": "ipython3",
   "version": "3.8.5"
  },
  "orig_nbformat": 4,
  "vscode": {
   "interpreter": {
    "hash": "f7b92937eb2e8b23441e06598906a3e7ebd8b051a30e634f301bf65b1a32076e"
   }
  }
 },
 "nbformat": 4,
 "nbformat_minor": 2
}
