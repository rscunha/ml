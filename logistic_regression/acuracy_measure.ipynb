{
 "cells": [
  {
   "cell_type": "code",
   "execution_count": 1,
   "metadata": {},
   "outputs": [],
   "source": [
    "import pandas as pd\n",
    "\n",
    "# limiting the columns and rows visualization\n",
    "pd.set_option('display.max_columns', 64)\n",
    "pd.set_option('display.max_rows', 64)\n",
    "\n",
    "train_reduced = pd.read_csv('../datasets/Data_train_reduced.csv')"
   ]
  },
  {
   "cell_type": "code",
   "execution_count": null,
   "metadata": {},
   "outputs": [],
   "source": [
    "# calculating total of null data\n",
    "null_data = train_reduced.isnull().sum()\n",
    "null_data_percent = (null_data / len(train_reduced['Product'])) * 100\n",
    "print(null_data_percent)"
   ]
  },
  {
   "cell_type": "code",
   "execution_count": 3,
   "metadata": {},
   "outputs": [],
   "source": [
    "# droping columns with more than 30% null data and not necessary columns\n",
    "\n",
    "train_reduced.drop('q8.20', axis=1, inplace=True)\n",
    "train_reduced.drop('q8.18', axis=1, inplace=True)\n",
    "train_reduced.drop('q8.17', axis=1, inplace=True)\n",
    "train_reduced.drop('q8.8', axis=1, inplace=True)\n",
    "train_reduced.drop('q8.9', axis=1, inplace=True)\n",
    "train_reduced.drop('q8.10', axis=1, inplace=True)\n",
    "train_reduced.drop('q8.2', axis=1, inplace=True)\n",
    "\n",
    "train_reduced.drop('Respondent.ID', axis=1, inplace=True)\n",
    "train_reduced.drop('Product', axis=1, inplace=True)\n",
    "train_reduced.drop('q1_1.personal.opinion.of.this.Deodorant', axis=1, inplace=True)\n"
   ]
  },
  {
   "cell_type": "code",
   "execution_count": 4,
   "metadata": {},
   "outputs": [],
   "source": [
    "# filling columns with little null data \n",
    "\n",
    "train_reduced['q8.12'].fillna(train_reduced['q8.12'].median(), inplace=True)\n",
    "train_reduced['q8.7'].fillna(train_reduced['q8.7'].median(), inplace=True)"
   ]
  },
  {
   "cell_type": "code",
   "execution_count": null,
   "metadata": {},
   "outputs": [],
   "source": [
    "null_data = train_reduced.isnull().sum()\n",
    "null_data_percent = (null_data / len(train_reduced['Product.ID'])) * 100\n",
    "print(null_data_percent)"
   ]
  },
  {
   "cell_type": "code",
   "execution_count": 6,
   "metadata": {},
   "outputs": [],
   "source": [
    "y = train_reduced['Instant.Liking']\n",
    "x = train_reduced.drop('Instant.Liking', axis=1)"
   ]
  },
  {
   "cell_type": "code",
   "execution_count": 8,
   "metadata": {},
   "outputs": [
    {
     "name": "stdout",
     "output_type": "stream",
     "text": [
      "0.752\n"
     ]
    }
   ],
   "source": [
    "from sklearn.linear_model import LogisticRegression\n",
    "from sklearn.model_selection import cross_val_score\n",
    "from sklearn.model_selection import StratifiedKFold\n",
    "\n",
    "stratified_kfold = StratifiedKFold(n_splits=5)\n",
    "\n",
    "logistic = LogisticRegression(penalty='l2', solver='liblinear')\n",
    "\n",
    "result = cross_val_score(logistic, x, y, cv=stratified_kfold)\n",
    "\n",
    "print(result.mean())"
   ]
  },
  {
   "cell_type": "code",
   "execution_count": null,
   "metadata": {},
   "outputs": [],
   "source": []
  }
 ],
 "metadata": {
  "kernelspec": {
   "display_name": "Python 3.8.5 ('base')",
   "language": "python",
   "name": "python3"
  },
  "language_info": {
   "codemirror_mode": {
    "name": "ipython",
    "version": 3
   },
   "file_extension": ".py",
   "mimetype": "text/x-python",
   "name": "python",
   "nbconvert_exporter": "python",
   "pygments_lexer": "ipython3",
   "version": "3.8.5"
  },
  "orig_nbformat": 4,
  "vscode": {
   "interpreter": {
    "hash": "f7b92937eb2e8b23441e06598906a3e7ebd8b051a30e634f301bf65b1a32076e"
   }
  }
 },
 "nbformat": 4,
 "nbformat_minor": 2
}
