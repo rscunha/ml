{
 "cells": [
  {
   "cell_type": "code",
   "execution_count": 1,
   "metadata": {},
   "outputs": [],
   "source": [
    "import pandas as pd\n",
    "\n",
    "admission_predict = pd.read_csv('../datasets/Admission_Predict.csv')"
   ]
  },
  {
   "cell_type": "code",
   "execution_count": 2,
   "metadata": {},
   "outputs": [],
   "source": [
    "y = admission_predict['Chance of Admit ']\n",
    "x = admission_predict.drop('Chance of Admit ', axis= 1)"
   ]
  },
  {
   "cell_type": "code",
   "execution_count": 3,
   "metadata": {},
   "outputs": [],
   "source": [
    "from sklearn.linear_model import ElasticNet\n",
    "\n",
    "elastic_net = ElasticNet()\n",
    "\n",
    "# Scale of values wich will be crossed\n",
    "# In this case we choose the ElasticNet algorithm and we are going to cross two of its parameters \n",
    "testable_value_scale = {\n",
    "    'alpha':[0.1,0.5,1,2,5,10,25,50,100,200,300,500,750,1000,1500,2000,3000,5000],\n",
    "    'l1_ratio':[0.02,0.05,0.1,0.2,0.3,0.4,0.5,0.6,0.7,0.8,0.9]\n",
    "}"
   ]
  },
  {
   "cell_type": "code",
   "execution_count": 4,
   "metadata": {},
   "outputs": [
    {
     "data": {
      "text/plain": [
       "RandomizedSearchCV(cv=5, estimator=ElasticNet(), n_iter=159,\n",
       "                   param_distributions={'alpha': [0.1, 0.5, 1, 2, 5, 10, 25, 50,\n",
       "                                                  100, 200, 300, 500, 750, 1000,\n",
       "                                                  1500, 2000, 3000, 5000],\n",
       "                                        'l1_ratio': [0.02, 0.05, 0.1, 0.2, 0.3,\n",
       "                                                     0.4, 0.5, 0.6, 0.7, 0.8,\n",
       "                                                     0.9]},\n",
       "                   random_state=15)"
      ]
     },
     "execution_count": 4,
     "metadata": {},
     "output_type": "execute_result"
    }
   ],
   "source": [
    "from sklearn.model_selection import RandomizedSearchCV\n",
    "\n",
    "# configuring automatized calibration\n",
    "randomized_calibration = RandomizedSearchCV(estimator = elastic_net, param_distributions = testable_value_scale, n_iter = 159, cv = 5, random_state = 15)\n",
    "randomized_calibration.fit(x, y)"
   ]
  },
  {
   "cell_type": "code",
   "execution_count": 5,
   "metadata": {},
   "outputs": [
    {
     "name": "stdout",
     "output_type": "stream",
     "text": [
      "Best Score: 0.7510290719875716\n",
      "Best Alpha: 0.1\n",
      "Best l1_ratio 0.02\n"
     ]
    }
   ],
   "source": [
    "\n",
    "# Showing the best values after performing all possible cobinations on the two chosen variables\n",
    "print(f'Best Score: {randomized_calibration.best_score_}')\n",
    "print(f'Best Alpha: {randomized_calibration.best_estimator_.alpha}')\n",
    "print(f'Best l1_ratio {randomized_calibration.best_estimator_.l1_ratio}')"
   ]
  }
 ],
 "metadata": {
  "kernelspec": {
   "display_name": "Python 3.8.5 ('base')",
   "language": "python",
   "name": "python3"
  },
  "language_info": {
   "codemirror_mode": {
    "name": "ipython",
    "version": 3
   },
   "file_extension": ".py",
   "mimetype": "text/x-python",
   "name": "python",
   "nbconvert_exporter": "python",
   "pygments_lexer": "ipython3",
   "version": "3.8.5"
  },
  "orig_nbformat": 4,
  "vscode": {
   "interpreter": {
    "hash": "f7b92937eb2e8b23441e06598906a3e7ebd8b051a30e634f301bf65b1a32076e"
   }
  }
 },
 "nbformat": 4,
 "nbformat_minor": 2
}
