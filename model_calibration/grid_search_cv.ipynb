{
 "cells": [
  {
   "cell_type": "code",
   "execution_count": 3,
   "metadata": {},
   "outputs": [],
   "source": [
    "import pandas as pd\n",
    "\n",
    "admission_predict = pd.read_csv('../datasets/Admission_predict.csv')"
   ]
  },
  {
   "cell_type": "code",
   "execution_count": 4,
   "metadata": {},
   "outputs": [],
   "source": [
    "y = admission_predict['Chance of Admit ']\n",
    "x = admission_predict.drop('Chance of Admit ', axis= 1)"
   ]
  },
  {
   "cell_type": "code",
   "execution_count": 5,
   "metadata": {},
   "outputs": [],
   "source": [
    "from sklearn.linear_model import ElasticNet\n",
    "\n",
    "elasticNet = ElasticNet()\n",
    "\n",
    "# Scale of values wich will be crossed\n",
    "# In this case we choose the ElasticNet algorithm and we are going to cross two of its parameters \n",
    "testable_scale_values = {\n",
    "    'alpha':[0.1,0.5,1,2,5,10, 25, 50, 100],\n",
    "    'l1_ratio':[0.02,0.05,0.1,0.2,0.3,0.4,0.5,0.6,0.7,0.8]\n",
    "}"
   ]
  },
  {
   "cell_type": "code",
   "execution_count": 6,
   "metadata": {},
   "outputs": [
    {
     "data": {
      "text/plain": [
       "GridSearchCV(estimator=ElasticNet(),\n",
       "             param_grid={'alpha': [0.1, 0.5, 1, 2, 5, 10, 25, 50, 100],\n",
       "                         'l1_ratio': [0.02, 0.05, 0.1, 0.2, 0.3, 0.4, 0.5, 0.6,\n",
       "                                      0.7, 0.8]})"
      ]
     },
     "execution_count": 6,
     "metadata": {},
     "output_type": "execute_result"
    }
   ],
   "source": [
    "from sklearn.model_selection import GridSearchCV\n",
    "\n",
    "# configuring automatized calibration\n",
    "gridSearchCV = GridSearchCV(estimator=elasticNet, param_grid=testable_scale_values)\n",
    "gridSearchCV.fit(x, y)"
   ]
  },
  {
   "cell_type": "code",
   "execution_count": 7,
   "metadata": {},
   "outputs": [
    {
     "name": "stdout",
     "output_type": "stream",
     "text": [
      "Best Score: 0.7510290719875716\n",
      "Best Alpha: 0.1\n",
      "Best L1 Ratio: 0.02\n"
     ]
    }
   ],
   "source": [
    "# Showing the best values after performing all possible cobinations on the two chosen variables\n",
    "print(f'Best Score: {gridSearchCV.best_score_}')\n",
    "print(f'Best Alpha: {gridSearchCV.best_estimator_.alpha}')\n",
    "print(f'Best L1 Ratio: {gridSearchCV.best_estimator_.l1_ratio}')"
   ]
  },
  {
   "cell_type": "code",
   "execution_count": null,
   "metadata": {},
   "outputs": [],
   "source": []
  }
 ],
 "metadata": {
  "kernelspec": {
   "display_name": "Python 3.8.5 ('base')",
   "language": "python",
   "name": "python3"
  },
  "language_info": {
   "codemirror_mode": {
    "name": "ipython",
    "version": 3
   },
   "file_extension": ".py",
   "mimetype": "text/x-python",
   "name": "python",
   "nbconvert_exporter": "python",
   "pygments_lexer": "ipython3",
   "version": "3.8.5"
  },
  "orig_nbformat": 4,
  "vscode": {
   "interpreter": {
    "hash": "f7b92937eb2e8b23441e06598906a3e7ebd8b051a30e634f301bf65b1a32076e"
   }
  }
 },
 "nbformat": 4,
 "nbformat_minor": 2
}
