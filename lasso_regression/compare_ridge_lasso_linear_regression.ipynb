{
 "cells": [
  {
   "cell_type": "code",
   "execution_count": 37,
   "metadata": {},
   "outputs": [],
   "source": [
    "import pandas as pd\n",
    "\n",
    "kc_house = pd.read_csv('../datasets/kc_house_data.csv')\n",
    "new_kc_house = kc_house.loc[:, ~kc_house.columns.isin(['id','date','zipcode','lat','long',])]"
   ]
  },
  {
   "cell_type": "code",
   "execution_count": 38,
   "metadata": {},
   "outputs": [],
   "source": [
    "y = new_kc_house['price']\n",
    "x = new_kc_house.drop('price', axis=1)"
   ]
  },
  {
   "cell_type": "code",
   "execution_count": 39,
   "metadata": {},
   "outputs": [],
   "source": [
    "from sklearn.model_selection import train_test_split\n",
    "\n",
    "x_train, x_test, y_train, y_test = train_test_split(x, y, test_size=0.3, random_state=14)"
   ]
  },
  {
   "cell_type": "code",
   "execution_count": 40,
   "metadata": {},
   "outputs": [],
   "source": [
    "from sklearn.linear_model import LinearRegression\n",
    "\n",
    "linear = LinearRegression()\n",
    "linear.fit(x_train, y_train)\n",
    "linear_score = linear.score(x_test, y_test)"
   ]
  },
  {
   "cell_type": "code",
   "execution_count": 41,
   "metadata": {},
   "outputs": [],
   "source": [
    "from sklearn.linear_model import Ridge\n",
    "\n",
    "ridge = Ridge()\n",
    "ridge.fit(x_train, y_train)\n",
    "ridge_score = ridge.score(x_test, y_test)"
   ]
  },
  {
   "cell_type": "code",
   "execution_count": 42,
   "metadata": {},
   "outputs": [],
   "source": [
    "from sklearn.linear_model import Lasso\n",
    "\n",
    "lasso = Lasso(alpha=1000, max_iter=1000, tol=0.1)\n",
    "lasso.fit(x_train, y_train)\n",
    "lasso_score = lasso.score(x_test, y_test)"
   ]
  },
  {
   "cell_type": "code",
   "execution_count": 43,
   "metadata": {},
   "outputs": [
    {
     "name": "stdout",
     "output_type": "stream",
     "text": [
      "Linear: 0.653809419628095\n",
      "Ridge: 0.6539029726255621\n",
      "Lasso: 0.6547706041742777\n"
     ]
    }
   ],
   "source": [
    "print(f'Linear: { linear_score }')\n",
    "print(f'Ridge: { ridge_score }')\n",
    "print(f'Lasso: { lasso_score }')\n"
   ]
  }
 ],
 "metadata": {
  "kernelspec": {
   "display_name": "Python 3.8.5 ('base')",
   "language": "python",
   "name": "python3"
  },
  "language_info": {
   "codemirror_mode": {
    "name": "ipython",
    "version": 3
   },
   "file_extension": ".py",
   "mimetype": "text/x-python",
   "name": "python",
   "nbconvert_exporter": "python",
   "pygments_lexer": "ipython3",
   "version": "3.8.5"
  },
  "orig_nbformat": 4,
  "vscode": {
   "interpreter": {
    "hash": "f7b92937eb2e8b23441e06598906a3e7ebd8b051a30e634f301bf65b1a32076e"
   }
  }
 },
 "nbformat": 4,
 "nbformat_minor": 2
}
