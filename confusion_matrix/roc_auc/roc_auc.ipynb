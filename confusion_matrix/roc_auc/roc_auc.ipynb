{
 "cells": [
  {
   "cell_type": "code",
   "execution_count": 2,
   "metadata": {},
   "outputs": [],
   "source": [
    "from sklearn.datasets import load_breast_cancer\n",
    "import pandas as pd\n",
    "\n",
    "pd.set_option('display.max_columns', 30)\n",
    "breast_cancer = load_breast_cancer()\n",
    "\n",
    "x = pd.DataFrame(breast_cancer.data, columns=[breast_cancer.feature_names])\n",
    "y = pd.Series(breast_cancer.target)\n"
   ]
  },
  {
   "cell_type": "code",
   "execution_count": 2,
   "metadata": {},
   "outputs": [
    {
     "name": "stdout",
     "output_type": "stream",
     "text": [
      "Score:  0.9766081871345029\n"
     ]
    }
   ],
   "source": [
    "from sklearn.linear_model import LogisticRegression\n",
    "from sklearn.model_selection import train_test_split\n",
    "\n",
    "x_train, x_test, y_train, y_test = train_test_split(x, y, test_size=0.3, random_state=9)\n",
    "\n",
    "logistic = LogisticRegression(C=95, penalty='l1', solver='liblinear', max_iter=1000)\n",
    "logistic.fit(x_train, y_train)\n",
    "\n",
    "result = logistic.score(x_test, y_test)\n",
    "print('Score: ', result)"
   ]
  },
  {
   "cell_type": "code",
   "execution_count": 3,
   "metadata": {},
   "outputs": [],
   "source": [
    "predict = logistic.predict_proba(x_test)"
   ]
  },
  {
   "cell_type": "code",
   "execution_count": 4,
   "metadata": {},
   "outputs": [
    {
     "name": "stdout",
     "output_type": "stream",
     "text": [
      "TPR:  [0.         0.00917431 0.94495413 0.94495413 0.98165138 0.98165138\n",
      " 0.99082569 0.99082569 1.         1.        ]\n",
      "FPR:  [0.         0.         0.         0.03225806 0.03225806 0.0483871\n",
      " 0.0483871  0.11290323 0.11290323 1.        ]\n",
      "Threshold:  [2.00000000e+00 9.99999997e-01 8.93966937e-01 8.75491486e-01\n",
      " 7.01783040e-01 6.55706932e-01 6.16876471e-01 1.73763260e-01\n",
      " 1.25573050e-01 2.11758604e-50]\n"
     ]
    }
   ],
   "source": [
    "probas = predict[:, 1]\n",
    "\n",
    "from sklearn.metrics import roc_curve\n",
    "fpr, tpr, thresholds = roc_curve(y_test, probas)\n",
    "\n",
    "print('TPR: ', tpr)\n",
    "print('FPR: ', fpr)\n",
    "print('Threshold: ', thresholds)"
   ]
  },
  {
   "cell_type": "code",
   "execution_count": 8,
   "metadata": {},
   "outputs": [
    {
     "data": {
      "image/png": "[encoded data removed]",
      "text/plain": [
       "<Figure size 432x288 with 1 Axes>"
      ]
     },
     "metadata": {
      "needs_background": "light"
     },
     "output_type": "display_data"
    }
   ],
   "source": [
    "import matplotlib.pyplot as plt\n",
    "plt.scatter(fpr, tpr)\n",
    "plt.show()"
   ]
  },
  {
   "cell_type": "code",
   "execution_count": 9,
   "metadata": {},
   "outputs": [
    {
     "name": "stdout",
     "output_type": "stream",
     "text": [
      "AUC:  0.9973364900858241\n"
     ]
    }
   ],
   "source": [
    "from sklearn.metrics import roc_auc_score\n",
    "ra_score = roc_auc_score(y_test, probas)\n",
    "\n",
    "print('AUC: ', ra_score)"
   ]
  },
  {
   "cell_type": "code",
   "execution_count": null,
   "metadata": {},
   "outputs": [],
   "source": []
  }
 ],
 "metadata": {
  "kernelspec": {
   "display_name": "Python 3.8.5 ('base')",
   "language": "python",
   "name": "python3"
  },
  "language_info": {
   "codemirror_mode": {
    "name": "ipython",
    "version": 3
   },
   "file_extension": ".py",
   "mimetype": "text/x-python",
   "name": "python",
   "nbconvert_exporter": "python",
   "pygments_lexer": "ipython3",
   "version": "3.8.5"
  },
  "orig_nbformat": 4,
  "vscode": {
   "interpreter": {
    "hash": "f7b92937eb2e8b23441e06598906a3e7ebd8b051a30e634f301bf65b1a32076e"
   }
  }
 },
 "nbformat": 4,
 "nbformat_minor": 2
}
