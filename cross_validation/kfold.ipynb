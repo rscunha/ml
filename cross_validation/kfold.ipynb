{
 "cells": [
  {
   "cell_type": "code",
   "execution_count": 16,
   "metadata": {},
   "outputs": [],
   "source": [
    "import pandas as pd\n",
    "\n",
    "# function to execute the cross-validation\n",
    "from sklearn.model_selection import cross_val_score\n",
    "\n",
    "# KFold algorithm used to cross-validation\n",
    "from sklearn.model_selection import KFold\n",
    "kfold = KFold()\n",
    "\n",
    "kc_house = pd.read_csv('../datasets/kc_house_data.csv')\n",
    "new_kc_house = kc_house.loc[:, ~kc_house.columns.isin(['id','date','zipcode','lat','long'])]"
   ]
  },
  {
   "cell_type": "code",
   "execution_count": 17,
   "metadata": {},
   "outputs": [],
   "source": [
    "y = new_kc_house['price']\n",
    "x = new_kc_house.drop('price', axis=1)"
   ]
  },
  {
   "cell_type": "code",
   "execution_count": 18,
   "metadata": {},
   "outputs": [],
   "source": [
    "from sklearn.linear_model import LinearRegression\n",
    "\n",
    "linear = LinearRegression()\n",
    "linear_result = cross_val_score(linear, x, y, cv=kfold)\n",
    "\n",
    "linear_result_avg = linear_result.mean()"
   ]
  },
  {
   "cell_type": "code",
   "execution_count": 19,
   "metadata": {},
   "outputs": [],
   "source": [
    "from sklearn.linear_model import Ridge\n",
    "\n",
    "ridge = Ridge()\n",
    "ridge_result = cross_val_score(ridge, x, y, cv = kfold)\n",
    "\n",
    "ridge_result_avg = ridge_result.mean()"
   ]
  },
  {
   "cell_type": "code",
   "execution_count": 20,
   "metadata": {},
   "outputs": [],
   "source": [
    "from sklearn.linear_model import Lasso\n",
    "\n",
    "lasso = Lasso(alpha=1, max_iter=1000, tol=0.1)\n",
    "lasso_result = cross_val_score(lasso, x, y, cv= kfold)\n",
    "\n",
    "lasso_result_avg = lasso_result.mean()"
   ]
  },
  {
   "cell_type": "code",
   "execution_count": 21,
   "metadata": {},
   "outputs": [],
   "source": [
    "from sklearn.linear_model import ElasticNet\n",
    "\n",
    "# remembering to calibrate L1 or L2 regularization for ElasticNet\n",
    "elastic_net = ElasticNet(alpha=1, l1_ratio=0.9, tol=0.2, max_iter=5000)\n",
    "elastic_net_result = cross_val_score(elastic_net, x, y, cv=kfold)\n",
    "\n",
    "elastic_net_result_avg = elastic_net_result.mean()"
   ]
  },
  {
   "cell_type": "code",
   "execution_count": 22,
   "metadata": {},
   "outputs": [
    {
     "name": "stdout",
     "output_type": "stream",
     "text": [
      "Linear: 0.6468201186632451\n",
      "Ridge: 0.6468325772835615\n",
      "Lasso: 0.646820003625074\n",
      "Elastic Net: 0.6304331891475273\n"
     ]
    }
   ],
   "source": [
    "\n",
    "#showing the R2 score average of each regression model  \n",
    "print(f'Linear: {linear_result_avg}')\n",
    "print(f'Ridge: {ridge_result_avg}')\n",
    "print(f'Lasso: {lasso_result_avg}')\n",
    "print(f'Elastic Net: {elastic_net_result_avg}')"
   ]
  }
 ],
 "metadata": {
  "kernelspec": {
   "display_name": "Python 3.8.5 ('base')",
   "language": "python",
   "name": "python3"
  },
  "language_info": {
   "codemirror_mode": {
    "name": "ipython",
    "version": 3
   },
   "file_extension": ".py",
   "mimetype": "text/x-python",
   "name": "python",
   "nbconvert_exporter": "python",
   "pygments_lexer": "ipython3",
   "version": "3.8.5"
  },
  "orig_nbformat": 4,
  "vscode": {
   "interpreter": {
    "hash": "f7b92937eb2e8b23441e06598906a3e7ebd8b051a30e634f301bf65b1a32076e"
   }
  }
 },
 "nbformat": 4,
 "nbformat_minor": 2
}
