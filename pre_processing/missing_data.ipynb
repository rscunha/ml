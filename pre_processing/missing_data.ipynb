{
 "cells": [
  {
   "cell_type": "code",
   "execution_count": 29,
   "metadata": {},
   "outputs": [],
   "source": [
    "import pandas as pd\n",
    "\n",
    "energy_benchmarking = pd.read_csv('./datasets/2015-building-energy-benchmarking.csv')\n"
   ]
  },
  {
   "cell_type": "code",
   "execution_count": 30,
   "metadata": {},
   "outputs": [],
   "source": [
    "# **** NULL TYPES ****\n",
    "# uncomment line bellow to see a columns that has null values: True == Null | False != Null\n",
    "is_null = energy_benchmarking.isnull()\n",
    "\n",
    "#is_null.head\n",
    "# **** END NULL TYPES ****\n"
   ]
  },
  {
   "cell_type": "code",
   "execution_count": 31,
   "metadata": {},
   "outputs": [],
   "source": [
    "# calculating the total of sum of null data\n",
    "# uncomment line bellow to see a table with the total null data sum \n",
    "sum_null_data = is_null.sum()\n",
    "\n",
    "#sumed_null_data.head\n"
   ]
  },
  {
   "cell_type": "code",
   "execution_count": 32,
   "metadata": {},
   "outputs": [],
   "source": [
    "#calculating the total of percentage of null data\n",
    "#uncomment the line bellow to see a table with the total percentual of null data \n",
    "percentage_null_data = sum_null_data / len(energy_benchmarking['OSEBuildingID']) * 100\n",
    "\n",
    "# before update null values\n",
    "#print (percentual_null_data['ENERGYSTARScore'])"
   ]
  },
  {
   "cell_type": "code",
   "execution_count": 33,
   "metadata": {},
   "outputs": [
    {
     "name": "stdout",
     "output_type": "stream",
     "text": [
      "0.0\n"
     ]
    }
   ],
   "source": [
    "\n",
    "#filling the null values of ENERGYSTARScore columns with your median\n",
    "energy_benchmarking['ENERGYSTARScore'].fillna(energy_benchmarking['ENERGYSTARScore'].median(), inplace=True)\n",
    "\n",
    "#recalculating the total of percentage of null data\n",
    "is_null = energy_benchmarking.isnull()\n",
    "sum_null_data = is_null.sum()\n",
    "percentage_null_data = sum_null_data / len(energy_benchmarking['ENERGYSTARScore']) * 100\n",
    "\n",
    "# after update null values\n",
    "print(percentage_null_data['ENERGYSTARScore'])"
   ]
  }
 ],
 "metadata": {
  "kernelspec": {
   "display_name": "Python 3.8.5 ('base')",
   "language": "python",
   "name": "python3"
  },
  "language_info": {
   "codemirror_mode": {
    "name": "ipython",
    "version": 3
   },
   "file_extension": ".py",
   "mimetype": "text/x-python",
   "name": "python",
   "nbconvert_exporter": "python",
   "pygments_lexer": "ipython3",
   "version": "3.8.5"
  },
  "orig_nbformat": 4,
  "vscode": {
   "interpreter": {
    "hash": "f7b92937eb2e8b23441e06598906a3e7ebd8b051a30e634f301bf65b1a32076e"
   }
  }
 },
 "nbformat": 4,
 "nbformat_minor": 2
}
